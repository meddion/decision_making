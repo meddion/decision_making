{
 "cells": [
  {
   "cell_type": "code",
   "execution_count": 88,
   "id": "587b0c87-3283-43fa-b10b-ace62431e684",
   "metadata": {},
   "outputs": [
    {
     "data": {
      "text/plain": [
       "5×5 Matrix{Bool}:\n",
       " 1  1  0  0  0\n",
       " 0  0  0  1  0\n",
       " 1  1  0  1  0\n",
       " 0  0  0  1  0\n",
       " 0  0  0  1  0"
      ]
     },
     "metadata": {},
     "output_type": "display_data"
    },
    {
     "data": {
      "text/plain": [
       "5×5 Matrix{Bool}:\n",
       " 1  0  0  0  0\n",
       " 0  0  0  0  0\n",
       " 0  0  0  0  0\n",
       " 0  0  0  1  0\n",
       " 0  0  0  0  0"
      ]
     },
     "metadata": {},
     "output_type": "display_data"
    },
    {
     "data": {
      "text/plain": [
       "5×5 Matrix{Bool}:\n",
       " 0  1  0  0  0\n",
       " 0  0  0  1  0\n",
       " 1  1  0  1  0\n",
       " 0  0  0  0  0\n",
       " 0  0  0  1  0"
      ]
     },
     "metadata": {},
     "output_type": "display_data"
    },
    {
     "data": {
      "text/plain": [
       "5×5 Matrix{Bool}:\n",
       " 1  1  1  0  0\n",
       " 1  0  1  1  0\n",
       " 1  1  0  1  0\n",
       " 0  1  1  1  1\n",
       " 0  0  0  1  0"
      ]
     },
     "metadata": {},
     "output_type": "display_data"
    },
    {
     "name": "stdout",
     "output_type": "stream",
     "text": [
      "Minimum: [4]\n",
      "Maximum: [3]\n",
      "Minoranta: [2, 4, 5]\n",
      "Majoranta: [3, 5]\n"
     ]
    },
    {
     "name": "stderr",
     "output_type": "stream",
     "text": [
      "WARNING: replacing module Helpers.\n",
      "WARNING: replacing module Task_6.\n"
     ]
    },
    {
     "data": {
      "text/plain": [
       "Main.Task_6"
      ]
     },
     "execution_count": 88,
     "metadata": {},
     "output_type": "execute_result"
    }
   ],
   "source": [
    "include(\"./helpers.jl\")\n",
    "\n",
    "module Task_6\n",
    "using ..Main.Helpers\n",
    "using LinearAlgebra\n",
    "\n",
    "# Варіант 5\n",
    "R1 =  Bool[\n",
    "    1 1 0 0 0; \n",
    "    0 0 0 1 0;\n",
    "    1 1 0 1 0; \n",
    "    0 0 0 1 0;\n",
    "    0 0 0 1 0]\n",
    "\n",
    "function min(R)\n",
    "    counts = []\n",
    "    len = size(R)[1]\n",
    "    for i in 1:len\n",
    "        push!(counts, sum(R[:, i]))\n",
    "    end\n",
    "    maxval, idx = findmax(counts)\n",
    "    nums =  [idx]\n",
    "    for i in 1:len\n",
    "        if counts[i] == maxval && i != nums[1]\n",
    "            push!(nums, i)\n",
    "        end \n",
    "    end\n",
    "    return R[:, nums], nums\n",
    "end\n",
    "\n",
    "indifference(R) = r_intersec(R, r_rotated(R))\n",
    "dominance(R) = r_intersec(R, r_inverse(indifference(R)))\n",
    "# Відношення непорівняльності\n",
    "notequal(R) = r_union(r_union(dominance(R), indifference(R)), \n",
    "                      r_rotated(dominance(R)))\n",
    "    \n",
    "\n",
    "max(R) = min(transpose(R))\n",
    "minoranta(R) = max(r_inverse(R))\n",
    "majoranta(R) = min(r_inverse(R))\n",
    "\n",
    "R1_min, mins = min(R1)\n",
    "R1_max, maxs = max(R1)\n",
    "println(\"Minimum: \", mins)\n",
    "println(\"Maximum: \", maxs)\n",
    "\n",
    "R1_mino, i = minoranta(R1)\n",
    "R1_majo, j = majoranta(R1)\n",
    "\n",
    "println(\"Minoranta: \", i)\n",
    "println(\"Majoranta: \", j)\n",
    "\n",
    "display(R1)\n",
    "display(indifference(R1))\n",
    "display(dominance(R1))\n",
    "display(notequal(R1))\n",
    "\n",
    "end"
   ]
  },
  {
   "cell_type": "code",
   "execution_count": 47,
   "id": "1d3bc5c6-e7a6-45ae-aaff-f45bb01bfa7e",
   "metadata": {},
   "outputs": [
    {
     "name": "stdout",
     "output_type": "stream",
     "text": [
      "search: \u001b[0m\u001b[1mf\u001b[22m\u001b[0m\u001b[1mi\u001b[22m\u001b[0m\u001b[1mn\u001b[22m\u001b[0m\u001b[1md\u001b[22m\u001b[0m\u001b[1mm\u001b[22m\u001b[0m\u001b[1ma\u001b[22m\u001b[0m\u001b[1mx\u001b[22m \u001b[0m\u001b[1mf\u001b[22m\u001b[0m\u001b[1mi\u001b[22m\u001b[0m\u001b[1mn\u001b[22m\u001b[0m\u001b[1md\u001b[22m\u001b[0m\u001b[1mm\u001b[22m\u001b[0m\u001b[1ma\u001b[22m\u001b[0m\u001b[1mx\u001b[22m! \u001b[0m\u001b[1mf\u001b[22m\u001b[0m\u001b[1mi\u001b[22m\u001b[0m\u001b[1mn\u001b[22m\u001b[0m\u001b[1md\u001b[22m\u001b[0m\u001b[1mm\u001b[22min \u001b[0m\u001b[1mf\u001b[22m\u001b[0m\u001b[1mi\u001b[22m\u001b[0m\u001b[1mn\u001b[22m\u001b[0m\u001b[1md\u001b[22m\u001b[0m\u001b[1mm\u001b[22min!\n",
      "\n"
     ]
    },
    {
     "data": {
      "text/latex": [
       "\\begin{verbatim}\n",
       "findmax(itr) -> (x, index)\n",
       "\\end{verbatim}\n",
       "Return the maximum element of the collection \\texttt{itr} and its index or key. If there are multiple maximal elements, then the first one will be returned. If any data element is \\texttt{NaN}, this element is returned. The result is in line with \\texttt{max}.\n",
       "\n",
       "The collection must not be empty.\n",
       "\n",
       "\\section{Examples}\n",
       "\\begin{verbatim}\n",
       "julia> findmax([8,0.1,-9,pi])\n",
       "(8.0, 1)\n",
       "\n",
       "julia> findmax([1,7,7,6])\n",
       "(7, 2)\n",
       "\n",
       "julia> findmax([1,7,7,NaN])\n",
       "(NaN, 4)\n",
       "\\end{verbatim}\n",
       "\\rule{\\textwidth}{1pt}\n",
       "\\begin{verbatim}\n",
       "findmax(A; dims) -> (maxval, index)\n",
       "\\end{verbatim}\n",
       "For an array input, returns the value and index of the maximum over the given dimensions. \\texttt{NaN} is treated as greater than all other values.\n",
       "\n",
       "\\section{Examples}\n",
       "\\begin{verbatim}\n",
       "julia> A = [1.0 2; 3 4]\n",
       "2×2 Matrix{Float64}:\n",
       " 1.0  2.0\n",
       " 3.0  4.0\n",
       "\n",
       "julia> findmax(A, dims=1)\n",
       "([3.0 4.0], CartesianIndex{2}[CartesianIndex(2, 1) CartesianIndex(2, 2)])\n",
       "\n",
       "julia> findmax(A, dims=2)\n",
       "([2.0; 4.0], CartesianIndex{2}[CartesianIndex(1, 2); CartesianIndex(2, 2)])\n",
       "\\end{verbatim}\n"
      ],
      "text/markdown": [
       "```\n",
       "findmax(itr) -> (x, index)\n",
       "```\n",
       "\n",
       "Return the maximum element of the collection `itr` and its index or key. If there are multiple maximal elements, then the first one will be returned. If any data element is `NaN`, this element is returned. The result is in line with `max`.\n",
       "\n",
       "The collection must not be empty.\n",
       "\n",
       "# Examples\n",
       "\n",
       "```jldoctest\n",
       "julia> findmax([8,0.1,-9,pi])\n",
       "(8.0, 1)\n",
       "\n",
       "julia> findmax([1,7,7,6])\n",
       "(7, 2)\n",
       "\n",
       "julia> findmax([1,7,7,NaN])\n",
       "(NaN, 4)\n",
       "```\n",
       "\n",
       "---\n",
       "\n",
       "```\n",
       "findmax(A; dims) -> (maxval, index)\n",
       "```\n",
       "\n",
       "For an array input, returns the value and index of the maximum over the given dimensions. `NaN` is treated as greater than all other values.\n",
       "\n",
       "# Examples\n",
       "\n",
       "```jldoctest\n",
       "julia> A = [1.0 2; 3 4]\n",
       "2×2 Matrix{Float64}:\n",
       " 1.0  2.0\n",
       " 3.0  4.0\n",
       "\n",
       "julia> findmax(A, dims=1)\n",
       "([3.0 4.0], CartesianIndex{2}[CartesianIndex(2, 1) CartesianIndex(2, 2)])\n",
       "\n",
       "julia> findmax(A, dims=2)\n",
       "([2.0; 4.0], CartesianIndex{2}[CartesianIndex(1, 2); CartesianIndex(2, 2)])\n",
       "```\n"
      ],
      "text/plain": [
       "\u001b[36m  findmax(itr) -> (x, index)\u001b[39m\n",
       "\n",
       "  Return the maximum element of the collection \u001b[36mitr\u001b[39m and its index or key. If\n",
       "  there are multiple maximal elements, then the first one will be returned. If\n",
       "  any data element is \u001b[36mNaN\u001b[39m, this element is returned. The result is in line\n",
       "  with \u001b[36mmax\u001b[39m.\n",
       "\n",
       "  The collection must not be empty.\n",
       "\n",
       "\u001b[1m  Examples\u001b[22m\n",
       "\u001b[1m  ≡≡≡≡≡≡≡≡≡≡\u001b[22m\n",
       "\n",
       "\u001b[36m  julia> findmax([8,0.1,-9,pi])\u001b[39m\n",
       "\u001b[36m  (8.0, 1)\u001b[39m\n",
       "\u001b[36m  \u001b[39m\n",
       "\u001b[36m  julia> findmax([1,7,7,6])\u001b[39m\n",
       "\u001b[36m  (7, 2)\u001b[39m\n",
       "\u001b[36m  \u001b[39m\n",
       "\u001b[36m  julia> findmax([1,7,7,NaN])\u001b[39m\n",
       "\u001b[36m  (NaN, 4)\u001b[39m\n",
       "\n",
       "  ────────────────────────────────────────────────────────────────────────────\n",
       "\n",
       "\u001b[36m  findmax(A; dims) -> (maxval, index)\u001b[39m\n",
       "\n",
       "  For an array input, returns the value and index of the maximum over the\n",
       "  given dimensions. \u001b[36mNaN\u001b[39m is treated as greater than all other values.\n",
       "\n",
       "\u001b[1m  Examples\u001b[22m\n",
       "\u001b[1m  ≡≡≡≡≡≡≡≡≡≡\u001b[22m\n",
       "\n",
       "\u001b[36m  julia> A = [1.0 2; 3 4]\u001b[39m\n",
       "\u001b[36m  2×2 Matrix{Float64}:\u001b[39m\n",
       "\u001b[36m   1.0  2.0\u001b[39m\n",
       "\u001b[36m   3.0  4.0\u001b[39m\n",
       "\u001b[36m  \u001b[39m\n",
       "\u001b[36m  julia> findmax(A, dims=1)\u001b[39m\n",
       "\u001b[36m  ([3.0 4.0], CartesianIndex{2}[CartesianIndex(2, 1) CartesianIndex(2, 2)])\u001b[39m\n",
       "\u001b[36m  \u001b[39m\n",
       "\u001b[36m  julia> findmax(A, dims=2)\u001b[39m\n",
       "\u001b[36m  ([2.0; 4.0], CartesianIndex{2}[CartesianIndex(1, 2); CartesianIndex(2, 2)])\u001b[39m"
      ]
     },
     "execution_count": 47,
     "metadata": {},
     "output_type": "execute_result"
    }
   ],
   "source": [
    "?findmax"
   ]
  },
  {
   "cell_type": "code",
   "execution_count": null,
   "id": "63bd9ea2-f1af-4d29-94a8-203631a1853c",
   "metadata": {},
   "outputs": [],
   "source": []
  }
 ],
 "metadata": {
  "kernelspec": {
   "display_name": "Julia 1.6.0",
   "language": "julia",
   "name": "julia-1.6"
  },
  "language_info": {
   "file_extension": ".jl",
   "mimetype": "application/julia",
   "name": "julia",
   "version": "1.6.2"
  }
 },
 "nbformat": 4,
 "nbformat_minor": 5
}
