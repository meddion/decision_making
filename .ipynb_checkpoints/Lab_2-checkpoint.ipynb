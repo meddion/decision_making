{
 "cells": [
  {
   "cell_type": "code",
   "execution_count": 39,
   "id": "b0d3655d-3f2f-4e9c-a92d-443ce0f588e5",
   "metadata": {},
   "outputs": [
    {
     "data": {
      "text/plain": [
       "20×20 Matrix{Bool}:\n",
       " 1  1  1  1  1  1  1  1  1  1  1  1  1  1  1  1  1  1  1  1\n",
       " 0  1  1  1  1  1  1  1  1  1  1  1  1  1  1  1  1  1  1  1\n",
       " 0  0  1  1  1  1  1  1  1  1  1  1  1  1  1  1  1  1  1  1\n",
       " 0  0  0  1  1  1  1  1  1  1  1  1  1  1  1  1  1  1  1  1\n",
       " 0  0  0  0  1  1  1  1  1  1  1  1  1  1  1  1  1  1  1  1\n",
       " 0  0  0  0  0  1  1  1  1  1  1  1  1  1  1  1  1  1  1  1\n",
       " 0  0  0  0  0  0  1  1  1  1  1  1  1  1  1  1  1  1  1  1\n",
       " 0  0  0  0  0  0  0  1  1  1  1  1  1  1  1  1  1  1  1  1\n",
       " 0  0  0  0  0  0  0  0  1  1  1  1  1  1  1  1  1  1  1  1\n",
       " 0  0  0  0  0  0  0  0  0  1  1  1  1  1  1  1  1  1  1  1\n",
       " 0  0  0  0  0  0  0  0  0  0  1  1  1  1  1  1  1  1  1  1\n",
       " 0  0  0  0  0  0  0  0  0  0  0  1  1  1  1  1  1  1  1  1\n",
       " 0  0  0  0  0  0  0  0  0  0  0  0  1  1  1  1  1  1  1  1\n",
       " 0  0  0  0  0  0  0  0  0  0  0  0  0  1  1  1  1  1  1  1\n",
       " 0  0  0  0  0  0  0  0  0  0  0  0  0  0  1  1  1  1  1  1\n",
       " 0  0  0  0  0  0  0  0  0  0  0  0  0  0  0  1  1  1  1  1\n",
       " 0  0  0  0  0  0  0  0  0  0  0  0  0  0  0  0  1  1  1  1\n",
       " 0  0  0  0  0  0  0  0  0  0  0  0  0  0  0  0  0  1  1  1\n",
       " 0  0  0  0  0  0  0  0  0  0  0  0  0  0  0  0  0  0  1  1\n",
       " 0  0  0  0  0  0  0  0  0  0  0  0  0  0  0  0  0  0  0  1"
      ]
     },
     "execution_count": 39,
     "metadata": {},
     "output_type": "execute_result"
    }
   ],
   "source": [
    "using LinearAlgebra\n",
    "R = <=\n",
    "A_range = 1:20\n",
    "\n",
    "A = hcat([ [(i, j)  for i in A_range] for j in A_range]...)\n",
    "Ar = hcat([ [R(i, j)  for i in A_range] for j in A_range]...)"
   ]
  },
  {
   "cell_type": "code",
   "execution_count": 64,
   "id": "c1179fd8-b8d1-4630-a914-5a7bb25ddfbe",
   "metadata": {},
   "outputs": [
    {
     "name": "stdout",
     "output_type": "stream",
     "text": [
      "Верхнай переріз: [1, 2, 3, 4, 5]\n",
      "Нижній переріз: [5, 6, 7, 8, 9, 10, 11, 12, 13, 14, 15, 16, 17, 18, 19, 20]\n"
     ]
    }
   ],
   "source": [
    "function r(A, R, k, method=\"+\")\n",
    "    res = Int[]\n",
    "    for (x, y) in (method == \"+\" ? A[:, k] : A[k, :]) \n",
    "        R(x, y) == 1 && push!(res, method == \"+\" ? x : y)\n",
    "    end\n",
    "    res\n",
    "end\n",
    "N = 5 # варіант\n",
    "println(\"Верхнай переріз: \", r(A, R, N, \"+\"))\n",
    "println(\"Нижній переріз: \", r(A, R, N, \"-\"))"
   ]
  },
  {
   "cell_type": "code",
   "execution_count": 66,
   "id": "d8423f52-a126-4e91-8af2-af645325275f",
   "metadata": {},
   "outputs": [
    {
     "data": {
      "text/plain": [
       "4×4 Matrix{Tuple{Char, Char}}:\n",
       " ('В', 'В')  ('В', 'З')  ('В', 'Л')  ('В', 'О')\n",
       " ('З', 'В')  ('З', 'З')  ('З', 'Л')  ('З', 'О')\n",
       " ('Л', 'В')  ('Л', 'З')  ('Л', 'Л')  ('Л', 'О')\n",
       " ('О', 'В')  ('О', 'З')  ('О', 'Л')  ('О', 'О')"
      ]
     },
     "execution_count": 66,
     "metadata": {},
     "output_type": "execute_result"
    }
   ],
   "source": [
    "# 1)\n",
    "A1 = \n",
    "\n"
   ]
  },
  {
   "cell_type": "code",
   "execution_count": 69,
   "id": "40f55bd2-d1f4-460a-b09e-67f686c7842d",
   "metadata": {},
   "outputs": [
    {
     "data": {
      "text/plain": [
       "create_realtions (generic function with 2 methods)"
      ]
     },
     "execution_count": 69,
     "metadata": {},
     "output_type": "execute_result"
    }
   ],
   "source": [
    "create_realtions(A, B, f=tuple) = hcat([ [f(i, j)  for i in A] for j in B]...)"
   ]
  },
  {
   "cell_type": "code",
   "execution_count": 72,
   "id": "a0b8134e-7c7b-44e0-a25d-3c0faa313ee3",
   "metadata": {},
   "outputs": [
    {
     "data": {
      "text/plain": [
       "4×4 Matrix{Tuple{Char, Char}}:\n",
       " ('В', 'В')  ('В', 'З')  ('В', 'Л')  ('В', 'О')\n",
       " ('З', 'В')  ('З', 'З')  ('З', 'Л')  ('З', 'О')\n",
       " ('Л', 'В')  ('Л', 'З')  ('Л', 'Л')  ('Л', 'О')\n",
       " ('О', 'В')  ('О', 'З')  ('О', 'Л')  ('О', 'О')"
      ]
     },
     "execution_count": 72,
     "metadata": {},
     "output_type": "execute_result"
    }
   ],
   "source": [
    "create_realtions(A, B, f=tuple) = hcat([ [f(i, j)  for i in A] for j in B]...)\n",
    "A = ['В', 'З', 'Л', 'О']\n",
    "A1 = create_realtions(A, A)\n",
    "\n",
    "function colder(a, b) \n",
    "    a == 'З' && return true\n",
    "    a == 'О' && return b in ['O', 'Л', 'В']\n",
    "    a == 'В' && return b in ['Л', 'З']\n",
    "    a == 'О' && return b in ['O', 'З']\n",
    "end\n",
    "\n",
    "A2 = create_realtions(A, A, )"
   ]
  }
 ],
 "metadata": {
  "kernelspec": {
   "display_name": "Julia 1.6.0",
   "language": "julia",
   "name": "julia-1.6"
  },
  "language_info": {
   "file_extension": ".jl",
   "mimetype": "application/julia",
   "name": "julia",
   "version": "1.6.2"
  }
 },
 "nbformat": 4,
 "nbformat_minor": 5
}
