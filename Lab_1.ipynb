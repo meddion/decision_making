{
 "cells": [
  {
   "cell_type": "code",
   "execution_count": 4,
   "id": "e3f440f4-60ae-40ae-936a-b26d66807ee7",
   "metadata": {},
   "outputs": [
    {
     "name": "stderr",
     "output_type": "stream",
     "text": [
      "WARNING: replacing module Hungarian.\n"
     ]
    }
   ],
   "source": [
    "include(\"./hungarian/src/Hungarian.jl\")\n",
    "using .Hungarian"
   ]
  },
  {
   "cell_type": "code",
   "execution_count": 6,
   "id": "299396dc-164e-4e21-90eb-e541d3e7e35a",
   "metadata": {},
   "outputs": [
    {
     "data": {
      "text/plain": [
       "([2, 3, 1], 18)"
      ]
     },
     "execution_count": 6,
     "metadata": {},
     "output_type": "execute_result"
    }
   ],
   "source": [
    "#using Hungarian\n",
    "weights = [  9     7    8;\n",
    "             6     6    7;\n",
    "             4     7    9]\n",
    "assignment, cost = hungarian(weights)"
   ]
  }
 ],
 "metadata": {
  "kernelspec": {
   "display_name": "Julia 1.6.0",
   "language": "julia",
   "name": "julia-1.6"
  },
  "language_info": {
   "file_extension": ".jl",
   "mimetype": "application/julia",
   "name": "julia",
   "version": "1.6.2"
  }
 },
 "nbformat": 4,
 "nbformat_minor": 5
}
