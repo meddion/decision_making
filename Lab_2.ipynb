{
 "cells": [
  {
   "cell_type": "code",
   "execution_count": 140,
   "id": "b0d3655d-3f2f-4e9c-a92d-443ce0f588e5",
   "metadata": {},
   "outputs": [],
   "source": [
    "using LinearAlgebra\n",
    "\n",
    "create_realtions(A, B, f=tuple) = hcat([ [f(i, j)  for i in A] for j in B]...)\n",
    "\n",
    "function r(A, R, k, method='+')\n",
    "    idx = method == '+' ? 1 : 2\n",
    "    values = method == '+' ? A[:, k] : A[k, :]\n",
    "    map(e -> e[idx], filter(e -> R(e[1], e[2]) == 1,  values)) |> collect\n",
    "end\n",
    "    \n",
    "export create_realtions, r"
   ]
  },
  {
   "cell_type": "code",
   "execution_count": null,
   "id": "a0b8134e-7c7b-44e0-a25d-3c0faa313ee3",
   "metadata": {},
   "outputs": [
    {
     "data": {
      "text/plain": [
       "4×4 Matrix{Tuple{Char, Char}}:\n",
       " ('В', 'В')  ('В', 'З')  ('В', 'Л')  ('В', 'О')\n",
       " ('З', 'В')  ('З', 'З')  ('З', 'Л')  ('З', 'О')\n",
       " ('Л', 'В')  ('Л', 'З')  ('Л', 'Л')  ('Л', 'О')\n",
       " ('О', 'В')  ('О', 'З')  ('О', 'Л')  ('О', 'О')"
      ]
     },
     "metadata": {},
     "output_type": "display_data"
    },
    {
     "data": {
      "text/plain": [
       "4×4 Matrix{Bool}:\n",
       " 1  0  1  0\n",
       " 1  1  1  1\n",
       " 0  0  1  0\n",
       " 1  0  1  1"
      ]
     },
     "metadata": {},
     "output_type": "display_data"
    },
    {
     "name": "stderr",
     "output_type": "stream",
     "text": [
      "WARNING: replacing module Task_1.\n"
     ]
    },
    {
     "data": {
      "text/plain": [
       "Main.Task_1"
      ]
     },
     "execution_count": 142,
     "metadata": {},
     "output_type": "execute_result"
    }
   ],
   "source": [
    "module Task_1\n",
    "using ..Main:create_realtions, r\n",
    "\n",
    "A = ['В', 'З', 'Л', 'О']\n",
    "# відношення \"так само\" та \"холодніше\"\n",
    "function colder(a, b) \n",
    "    A = ['Л', 'В', 'О']\n",
    "    a == 'О' && return b in A[1:end]\n",
    "    a == 'В' && return b in A[1:end-1]\n",
    "    a == 'Л' && return b in A[1:end-2]\n",
    "    true\n",
    "end\n",
    "\n",
    "A2 = create_realtions(A, A) |> display\n",
    "create_realtions(A, A, colder) |> display\n",
    "end"
   ]
  },
  {
   "cell_type": "code",
   "execution_count": 143,
   "id": "5592e7c7-9754-4716-966b-ad11a52f7cbb",
   "metadata": {},
   "outputs": [
    {
     "name": "stdout",
     "output_type": "stream",
     "text": [
      "Верхнай переріз: [1, 2, 3, 4, 5]\n",
      "Нижній переріз: [5, 6, 7, 8, 9, 10, 11, 12, 13, 14, 15, 16, 17, 18, 19, 20]\n"
     ]
    },
    {
     "data": {
      "text/plain": [
       "Main.Task_2"
      ]
     },
     "execution_count": 143,
     "metadata": {},
     "output_type": "execute_result"
    }
   ],
   "source": [
    "module Task_2\n",
    "using ..Main:create_realtions, r\n",
    "\n",
    "R = <=\n",
    "A_set = 1:20\n",
    "A = create_realtions(A_set, A_set)\n",
    "Ar = create_realtions(A_set, A_set, R)\n",
    "N = 5 # варіант\n",
    "println(\"Верхнай переріз: \", r(A, R, N, '+'))\n",
    "println(\"Нижній переріз: \", r(A, R, N, '-'))\n",
    "\n",
    "end"
   ]
  },
  {
   "cell_type": "code",
   "execution_count": 132,
   "id": "53ff24b8-39bc-473a-9a1b-64f7f1b243fa",
   "metadata": {},
   "outputs": [
    {
     "name": "stderr",
     "output_type": "stream",
     "text": [
      "\u001b[32m\u001b[1m    Updating\u001b[22m\u001b[39m registry at `~/.julia/registries/General`\n",
      "\u001b[32m\u001b[1m    Updating\u001b[22m\u001b[39m registry at `~/.julia/registries/JuliaComputingRegistry`\n",
      "\u001b[32m\u001b[1m   Resolving\u001b[22m\u001b[39m package versions...\n",
      "\u001b[32m\u001b[1m    Updating\u001b[22m\u001b[39m `~/.julia/environments/v1.6/Project.toml`\n",
      " \u001b[90m [cd3eb016] \u001b[39m\u001b[92m+ HTTP v0.9.14\u001b[39m\n",
      "\u001b[32m\u001b[1m  No Changes\u001b[22m\u001b[39m to `~/.julia/environments/v1.6/Manifest.toml`\n"
     ]
    }
   ],
   "source": [
    "] add HTTP"
   ]
  },
  {
   "cell_type": "code",
   "execution_count": 139,
   "id": "10e10768-b109-49a1-a39d-efb83b36734e",
   "metadata": {},
   "outputs": [
    {
     "data": {
      "text/plain": [
       "32×32 Matrix{Bool}:\n",
       " 0  1  1  1  1  1  1  1  1  1  0  1  0  …  1  1  1  1  1  0  1  1  1  1  1  0\n",
       " 0  0  0  0  0  0  0  0  0  0  0  0  0     1  1  1  1  0  0  0  0  0  0  0  0\n",
       " 0  1  0  1  0  1  0  1  1  1  0  0  0     1  1  1  1  0  0  0  1  1  1  1  0\n",
       " 0  1  0  0  0  1  0  0  1  1  0  0  0     1  1  1  1  0  0  0  0  1  0  1  0\n",
       " 0  1  1  1  0  1  1  1  1  1  0  0  0     1  1  1  1  0  0  0  1  1  1  1  0\n",
       " 0  1  0  0  0  0  0  0  1  1  0  0  0  …  1  1  1  1  0  0  0  0  0  0  1  0\n",
       " 0  1  0  1  0  1  0  1  1  1  0  0  0     1  1  1  1  0  0  0  1  1  1  1  0\n",
       " 0  1  0  0  0  1  0  0  1  1  0  0  0     1  1  1  1  0  0  0  0  1  0  1  0\n",
       " 0  1  0  0  0  0  0  0  0  0  0  0  0     1  1  1  1  0  0  0  0  0  0  1  0\n",
       " 0  1  0  0  0  0  0  0  1  0  0  0  0     1  1  1  1  0  0  0  0  0  0  1  0\n",
       " 1  1  1  1  1  1  1  1  1  1  0  1  1  …  1  1  1  1  1  1  1  1  1  1  1  0\n",
       " 0  1  1  1  1  1  1  1  1  1  0  0  0     1  1  1  1  0  0  0  1  1  1  1  0\n",
       " 1  1  1  1  1  1  1  1  1  1  0  1  0     1  1  1  1  1  1  1  1  1  1  1  0\n",
       " ⋮              ⋮              ⋮        ⋱  ⋮              ⋮              ⋮  \n",
       " 0  0  0  0  0  0  0  0  0  0  0  0  0  …  0  1  1  0  0  0  0  0  0  0  0  0\n",
       " 0  0  0  0  0  0  0  0  0  0  0  0  0     0  0  0  0  0  0  0  0  0  0  0  0\n",
       " 0  0  0  0  0  0  0  0  0  0  0  0  0     0  1  0  0  0  0  0  0  0  0  0  0\n",
       " 0  0  0  0  0  0  0  0  0  0  0  0  0     1  1  1  0  0  0  0  0  0  0  0  0\n",
       " 0  1  1  1  1  1  1  1  1  1  0  1  0     1  1  1  1  0  0  0  1  1  1  1  0\n",
       " 1  1  1  1  1  1  1  1  1  1  0  1  0  …  1  1  1  1  1  0  1  1  1  1  1  0\n",
       " 0  1  1  1  1  1  1  1  1  1  0  1  0     1  1  1  1  0  0  0  1  1  1  1  0\n",
       " 0  1  0  1  0  1  0  1  1  1  0  0  0     1  1  1  1  0  0  0  0  1  0  1  0\n",
       " 0  1  0  0  0  1  0  0  1  1  0  0  0     1  1  1  1  0  0  0  0  0  0  1  0\n",
       " 0  1  0  1  0  1  0  1  1  1  0  0  0     1  1  1  1  0  0  0  0  1  0  1  0\n",
       " 0  1  0  0  0  0  0  0  0  0  0  0  0  …  1  1  1  1  0  0  0  0  0  0  0  0\n",
       " 1  1  1  1  1  1  1  1  1  1  1  1  1     1  1  1  1  1  1  1  1  1  1  1  0"
      ]
     },
     "metadata": {},
     "output_type": "display_data"
    },
    {
     "data": {
      "text/plain": [
       "8×8 Matrix{Tuple{Char, Char}}:\n",
       " ('l', 'l')  ('l', 's')  ('l', 'l')  …  ('l', 'g')  ('l', 'b')  ('l', 'z')\n",
       " ('s', 'l')  ('s', 's')  ('s', 'l')     ('s', 'g')  ('s', 'b')  ('s', 'z')\n",
       " ('l', 'l')  ('l', 's')  ('l', 'l')     ('l', 'g')  ('l', 'b')  ('l', 'z')\n",
       " ('g', 'l')  ('g', 's')  ('g', 'l')     ('g', 'g')  ('g', 'b')  ('g', 'z')\n",
       " ('d', 'l')  ('d', 's')  ('d', 'l')     ('d', 'g')  ('d', 'b')  ('d', 'z')\n",
       " ('g', 'l')  ('g', 's')  ('g', 'l')  …  ('g', 'g')  ('g', 'b')  ('g', 'z')\n",
       " ('b', 'l')  ('b', 's')  ('b', 'l')     ('b', 'g')  ('b', 'b')  ('b', 'z')\n",
       " ('z', 'l')  ('z', 's')  ('z', 'l')     ('z', 'g')  ('z', 'b')  ('z', 'z')"
      ]
     },
     "metadata": {},
     "output_type": "display_data"
    },
    {
     "data": {
      "text/plain": [
       "8×8 Matrix{Bool}:\n",
       " 0  0  0  1  1  1  1  0\n",
       " 1  0  1  1  1  1  1  0\n",
       " 0  0  0  1  1  1  1  0\n",
       " 0  0  0  0  1  0  1  0\n",
       " 0  0  0  0  0  0  1  0\n",
       " 0  0  0  0  1  0  1  0\n",
       " 0  0  0  0  0  0  0  0\n",
       " 1  1  1  1  1  1  1  0"
      ]
     },
     "metadata": {},
     "output_type": "display_data"
    },
    {
     "name": "stdout",
     "output_type": "stream",
     "text": [
      "Верхнай переріз: [\"mariner\", \"horns\", \"jaw\", \"horns\", \"swords chace\", \"jaw fangs\", \"swam Leviathan\", \"mariner Fish\", \"swords monsters\", \"swam paint\", \"l\", \"s\", \"l\", \"g\", \"g\", \"z\"]\n",
      "Нижній переріз: [\"Fish\", \"colour\", \"beneath saws\", \"chace every\", \"48\", \"25\", \"45\", \"24\", \"57\", \"23\", \"49\", \"89\", \"d\", \"b\"]\n",
      "Rand chars:\n",
      "Верхнай переріз: ['l', 's', 'l', 'z']\n",
      "Нижній переріз: ['d', 'b']\n"
     ]
    },
    {
     "name": "stderr",
     "output_type": "stream",
     "text": [
      "WARNING: replacing module Task_3.\n"
     ]
    },
    {
     "data": {
      "text/plain": [
       "Main.Task_3"
      ]
     },
     "execution_count": 139,
     "metadata": {},
     "output_type": "execute_result"
    }
   ],
   "source": [
    "module Task_3\n",
    "\n",
    "using ..Main:create_realtions, r\n",
    "\n",
    "const words = String[\"free\",\"element\", \"beneath\", \"me\", \"swam\", \"Floundered\", \"play\", \"chace\", \"battle\", \n",
    "    \"Leviathan\", \"Fish\", \"every\", \"colour\", \"language\", \"paint\",  \"mariner\",\n",
    "    \"Whales\", \"sharks\", \"monsters\", \"front\", \"jaw\", \"swords\", \"saws\", \"spiral\", \"horns\", \"fangs\"]\n",
    "\n",
    "# А = {довільні вісім чисел, букв, слів, словлсполучень}\n",
    "n = 8\n",
    "rand_words = rand(words, n)\n",
    "rand_comp = [a*\" \"*b for (a, b) in zip(rand(words, n), rand(words, n)) ]\n",
    "rand_chars = rand('a':'z', n)\n",
    "rand_nums = rand(1:100, n)\n",
    "A_set = append!(rand_words, rand_comp, string.(rand_nums), string.(rand_chars))\n",
    "\n",
    "# # 'a' <= 'b' == true\n",
    "A = create_realtions(A_set, A_set)\n",
    "R = >\n",
    "\n",
    "\n",
    "N = 4\n",
    "create_realtions(A_set, A_set, R) |> display\n",
    "println(\"Верхнай переріз: \", r(A, R, N, '+'))\n",
    "println(\"Нижній переріз: \", r(A, R, N, '-'))\n",
    "\n",
    "println(\"Rand chars:\")\n",
    "\n",
    "A = create_realtions(rand_chars, rand_chars)\n",
    "display(A)\n",
    "create_realtions(rand_chars, rand_chars, R) |> display\n",
    "println(\"Верхнай переріз: \", r(A, R, N, '+'))\n",
    "println(\"Нижній переріз: \", r(A, R, N, '-'))\n",
    "\n",
    "end"
   ]
  }
 ],
 "metadata": {
  "kernelspec": {
   "display_name": "Julia 1.6.0",
   "language": "julia",
   "name": "julia-1.6"
  },
  "language_info": {
   "file_extension": ".jl",
   "mimetype": "application/julia",
   "name": "julia",
   "version": "1.6.2"
  }
 },
 "nbformat": 4,
 "nbformat_minor": 5
}
