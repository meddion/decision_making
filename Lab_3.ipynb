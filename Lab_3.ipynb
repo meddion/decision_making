{
 "cells": [
  {
   "cell_type": "code",
   "execution_count": 2,
   "id": "5e86e683-86a7-4c21-a13b-5bebe6834202",
   "metadata": {},
   "outputs": [
    {
     "data": {
      "text/plain": [
       "Main.Helpers"
      ]
     },
     "execution_count": 2,
     "metadata": {},
     "output_type": "execute_result"
    }
   ],
   "source": [
    "include(\"./helpers.jl\")"
   ]
  },
  {
   "cell_type": "code",
   "execution_count": 4,
   "id": "70329d2b-bf86-4536-bb46-19d3dc8898ad",
   "metadata": {},
   "outputs": [
    {
     "data": {
      "text/plain": [
       "4×4 Matrix{Tuple{Char, Char}}:\n",
       " ('В', 'В')  ('В', 'З')  ('В', 'Л')  ('В', 'О')\n",
       " ('З', 'В')  ('З', 'З')  ('З', 'Л')  ('З', 'О')\n",
       " ('Л', 'В')  ('Л', 'З')  ('Л', 'Л')  ('Л', 'О')\n",
       " ('О', 'В')  ('О', 'З')  ('О', 'Л')  ('О', 'О')"
      ]
     },
     "metadata": {},
     "output_type": "display_data"
    },
    {
     "data": {
      "text/plain": [
       "4×4 Matrix{Bool}:\n",
       " 1  0  1  0\n",
       " 1  1  1  1\n",
       " 0  0  1  0\n",
       " 1  0  1  1"
      ]
     },
     "metadata": {},
     "output_type": "display_data"
    },
    {
     "name": "stderr",
     "output_type": "stream",
     "text": [
      "WARNING: replacing module Task_1.\n"
     ]
    },
    {
     "ename": "LoadError",
     "evalue": "UndefVarError: plot_graph not defined",
     "output_type": "error",
     "traceback": [
      "UndefVarError: plot_graph not defined",
      "",
      "Stacktrace:",
      " [1] top-level scope",
      "   @ In[4]:8",
      " [2] eval",
      "   @ ./boot.jl:360 [inlined]",
      " [3] include_string(mapexpr::typeof(REPL.softscope), mod::Module, code::String, filename::String)",
      "   @ Base ./loading.jl:1116"
     ]
    }
   ],
   "source": [
    "module Task_1\n",
    "using ..Main.Helpers\n",
    "# Варіант 5\n",
    "A = Helpers.A\n",
    "create_realtions(A, A) |> display\n",
    "R1 = create_realtions(A, A, colder_eq)\n",
    "display(R1)\n",
    "plot_graph(R1, A)\n",
    "end"
   ]
  },
  {
   "cell_type": "code",
   "execution_count": 57,
   "id": "7772fa4d-caa4-4cc3-92f7-537beecdb603",
   "metadata": {},
   "outputs": [
    {
     "name": "stdout",
     "output_type": "stream",
     "text": [
      "Set A: ['В', 'З', 'Л', 'О']\n",
      "R: Bool[1 0 1 0; 1 1 1 1; 0 0 1 0; 1 0 1 1]\n",
      "Inverse: Bool[0 1 0 1; 0 0 0 0; 1 1 0 1; 0 1 0 0]\n",
      "Union: "
     ]
    },
    {
     "name": "stderr",
     "output_type": "stream",
     "text": [
      "WARNING: replacing module Task_3.\n"
     ]
    },
    {
     "name": "stdout",
     "output_type": "stream",
     "text": [
      "Bool[1 0 1 0; 1 1 1 1; 0 0 1 0; 1 0 1 1]\n",
      "Intersection: Bool[1 0 1 0; 1 1 1 1; 0 0 1 0; 1 0 1 1]\n",
      "Rotation: Bool[1 1 0 1; 0 1 0 0; 1 1 1 1; 0 1 0 1]\n",
      "Compositon: Bool[1 0 1 0; 1 1 1 1; 0 0 1 0; 1 0 1 1]\n"
     ]
    },
    {
     "data": {
      "text/plain": [
       "Main.Task_3"
      ]
     },
     "execution_count": 57,
     "metadata": {},
     "output_type": "execute_result"
    }
   ],
   "source": [
    "module Task_3\n",
    "using ..Main.Helpers\n",
    "using LinearAlgebra\n",
    "\n",
    "consistency_check(R1::Matrix{Bool}, R2::Matrix{Bool}) = @assert size(R1) == size(R2) \"size(R1) must equal size(R2)\" \n",
    "\n",
    "\"\"\"\n",
    "R1 = Bool[1 1 1 1; 0 1 1 1; 0 1 0 0; 1 0 1 0]\n",
    "R2 = Bool[0 1 0 1; 0 0 0 1; 0 1 0 0; 0 0 1 0]\n",
    "r_mult(R1, R2) |> display\n",
    "\n",
    "4×4 Matrix{Bool}:\n",
    " 0  1  1  1\n",
    " 0  1  1  1\n",
    " 0  0  0  1\n",
    " 0  1  0  1\n",
    "\"\"\"\n",
    "function matrix_op(relation)\n",
    "    return function r_union(R1::Matrix, R2::Matrix)\n",
    "        consistency_check(R1, R2)\n",
    "        new_R = copy(R1)\n",
    "        map(arg -> relation(R2[arg[1]], arg[2]), enumerate(new_R))\n",
    "    end\n",
    "end\n",
    "\n",
    "# добуток/композиція\n",
    "function r_mult(R1::Matrix{Bool}, R2::Matrix{Bool})\n",
    "    consistency_check(R1, R2)\n",
    "    r, c = size(R1)\n",
    "    R_new = zeros(Bool, r, c)\n",
    "    for i in 1:r, j in 1:c\n",
    "        R_new[i, j] = any(R1[i, :] .& R2[:, j])\n",
    "    end\n",
    "    R_new\n",
    "end\n",
    "    \n",
    "# об'єднання\n",
    "r_union = matrix_op(|)\n",
    "# перетин\n",
    "r_intersec = matrix_op(&)\n",
    "# обернене\n",
    "r_rotated(R::Matrix) = transpose(R)\n",
    "# доповнення\n",
    "r_inverse(R::Matrix) = map(!, R)\n",
    "\n",
    "# Execution\n",
    "A = Helpers.A\n",
    "println(\"Set A: \", A)\n",
    "R = create_realtions(A, A, colder_eq)\n",
    "println(\"R: \", R)\n",
    "\n",
    "println(\"Inverse: \", r_inverse(R))\n",
    "println(\"Union: \", r_union(R, R))\n",
    "println(\"Intersection: \", r_intersec(R, R))\n",
    "println(\"Rotation: \", r_rotated(R))\n",
    "println(\"Compositon: \", r_mult(R, R))\n",
    "\n",
    "end"
   ]
  }
 ],
 "metadata": {
  "kernelspec": {
   "display_name": "Julia 1.6.0",
   "language": "julia",
   "name": "julia-1.6"
  },
  "language_info": {
   "file_extension": ".jl",
   "mimetype": "application/julia",
   "name": "julia",
   "version": "1.6.2"
  }
 },
 "nbformat": 4,
 "nbformat_minor": 5
}
